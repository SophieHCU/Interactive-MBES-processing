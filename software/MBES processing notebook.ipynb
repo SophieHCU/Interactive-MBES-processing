{
 "cells": [
  {
   "cell_type": "code",
   "execution_count": 1,
   "metadata": {
    "ExecuteTime": {
     "end_time": "2020-12-14T17:56:36.128798Z",
     "start_time": "2020-12-14T17:56:35.890362Z"
    },
    "deletable": false,
    "editable": false,
    "hide_input": true,
    "init_cell": true
   },
   "outputs": [],
   "source": [
    "# Imports\n",
    "import subprocess\n",
    "import pdal\n",
    "import math\n",
    "import os\n",
    "import sys\n",
    "import json\n",
    "import logging\n",
    "import time\n",
    "import numpy as np\n",
    "import ipywidgets as widgets\n",
    "from pathlib import Path\n",
    "from IPython.display import display, clear_output, IFrame, HTML, Javascript\n",
    "from math import sqrt"
   ]
  },
  {
   "cell_type": "code",
   "execution_count": 2,
   "metadata": {
    "ExecuteTime": {
     "end_time": "2020-12-14T17:56:36.144374Z",
     "start_time": "2020-12-14T17:56:36.128798Z"
    },
    "deletable": false,
    "editable": false,
    "hide_input": false,
    "init_cell": true
   },
   "outputs": [
    {
     "data": {
      "text/html": [
       "<style>.container { width:80% !important; }</style>"
      ],
      "text/plain": [
       "<IPython.core.display.HTML object>"
      ]
     },
     "metadata": {},
     "output_type": "display_data"
    }
   ],
   "source": [
    "# Adjust the screen size to 80%\n",
    "display(HTML(\"<style>.container { width:80% !important; }</style>\"))"
   ]
  },
  {
   "cell_type": "code",
   "execution_count": 3,
   "metadata": {
    "ExecuteTime": {
     "end_time": "2020-12-14T17:56:36.159984Z",
     "start_time": "2020-12-14T17:56:36.144374Z"
    },
    "deletable": false,
    "editable": false,
    "init_cell": true
   },
   "outputs": [],
   "source": [
    "# Configure logging\n",
    "logger = logging.getLogger()\n",
    "handler = logging.StreamHandler()\n",
    "formatter = logging.Formatter('%(asctime)-8s %(levelname)-8s %(message)s')\n",
    "handler.setFormatter(formatter)\n",
    "logger.handlers = [handler]\n",
    "logging.getLogger().setLevel(logging.INFO)"
   ]
  },
  {
   "cell_type": "code",
   "execution_count": 4,
   "metadata": {
    "ExecuteTime": {
     "end_time": "2020-12-14T17:56:36.175615Z",
     "start_time": "2020-12-14T17:56:36.159984Z"
    },
    "deletable": false,
    "editable": false,
    "init_cell": true
   },
   "outputs": [],
   "source": [
    "# Path to npm http-package\n",
    "npm_http_server_path = Path(sys.prefix,'node_modules/http-server/bin/http-server')\n",
    "\n",
    "if not npm_http_server_path.exists():\n",
    "    subprocess.call(['npm', 'install', '--global', 'http-server'], shell=True)\n",
    "    if not npm_http_server_path.exists():\n",
    "        logging.warning('NodeJs http-server installation failed!')\n",
    "    else:\n",
    "        npm_http_server_path = npm_http_server_path.as_posix()"
   ]
  },
  {
   "cell_type": "code",
   "execution_count": 5,
   "metadata": {
    "ExecuteTime": {
     "end_time": "2020-12-14T17:56:36.191199Z",
     "start_time": "2020-12-14T17:56:36.175615Z"
    },
    "code_folding": [],
    "deletable": false,
    "editable": false,
    "init_cell": true
   },
   "outputs": [],
   "source": [
    "# Helper functions\n",
    "def run_subprocess(args):\n",
    "    \"\"\" Runs a subprocess defined by the program args list and returns a CompletedProcess instance.\"\"\"\n",
    "    return subprocess.run(args, capture_output=True, text=True, check=True)\n",
    "\n",
    "def run_PDAL(PDAL_pipeline):\n",
    "    \"\"\"Executes a PDAL pipeline.\"\"\"\n",
    "    pipeline = pdal.Pipeline(json.dumps(PDAL_pipeline))\n",
    "    pipeline.validate()\n",
    "    pipeline.execute()  "
   ]
  },
  {
   "cell_type": "markdown",
   "metadata": {
    "deletable": false,
    "editable": false,
    "hide_input": false
   },
   "source": [
    "![](notebook_data/hcu_title_image.png)"
   ]
  },
  {
   "cell_type": "markdown",
   "metadata": {
    "deletable": false,
    "editable": false
   },
   "source": [
    "The notebook is a first implementation of a processing workflow for MBES data (bathymetry and backscatter) in Jupyter Notebook. To call the underlying Python code, corresponding widgets are provided. For both bathymetry and backscatter processing, ASCII data is used as a basis. Those can be created with the Kongsberg MBES preprocessing module, or alternatively exported from other software."
   ]
  },
  {
   "cell_type": "markdown",
   "metadata": {},
   "source": [
    "# ASCII to EPT conversion\n",
    "\n",
    "[EPT](https://entwine.io/entwine-point-tile.html) is an octree-based point cloud storage format. It is the basis of all processing steps within this notebook. To convert ASCII file to EPT, they need to be passed with a certain formatting:\n",
    "\n",
    "- Bathymetry: `X,Y,Z(,Classification)`\n",
    "- Backscatter: `X,Y(,Z),Amplitude`\n",
    "\n",
    "Other dimensions can also be included. If they are non of the known [PDAL dimensions](https://pdal.io/dimensions.html), a custom dimension will be created.\n",
    "\n",
    "For subsequent data processing, geographic data firstly has to be projected to the corresponding UTM zone. Typically the north-western extent is used to determine the suitable zone:"
   ]
  },
  {
   "cell_type": "code",
   "execution_count": 6,
   "metadata": {
    "ExecuteTime": {
     "end_time": "2020-12-14T17:56:36.244601Z",
     "start_time": "2020-12-14T17:56:36.191199Z"
    },
    "deletable": false,
    "editable": false,
    "hide_input": true,
    "init_cell": true
   },
   "outputs": [
    {
     "data": {
      "application/vnd.jupyter.widget-view+json": {
       "model_id": "00e97bc7f91b4f0e934771a4999eff87",
       "version_major": 2,
       "version_minor": 0
      },
      "text/plain": [
       "HBox(children=(BoundedFloatText(value=0.0, description='Longitude:', max=180.0, min=-180.0, step=0.001), Bound…"
      ]
     },
     "metadata": {},
     "output_type": "display_data"
    }
   ],
   "source": [
    "longitude_floattext = widgets.BoundedFloatText(\n",
    "    value=0.000,\n",
    "    min=-180.000,\n",
    "    max=180.000,\n",
    "    step=0.001,\n",
    "    description='Longitude:',\n",
    "    disabled=False\n",
    ")\n",
    "\n",
    "latitude_floattext = widgets.BoundedFloatText(\n",
    "    value=0.000,\n",
    "    min=-90.000,\n",
    "    max=90.000,\n",
    "    step=0.001,\n",
    "    description='Latitude:',\n",
    "    disabled=False\n",
    ")\n",
    "\n",
    "determine_EPSG_button = widgets.Button(\n",
    "    description='Get UTM EPSG code',\n",
    "    button_style='info',\n",
    "    tooltip='Determine the EPSG code of the corresponding UTM zone'\n",
    ")\n",
    "\n",
    "determine_EPSG_output = widgets.Output()\n",
    "\n",
    "def on_determine_EPSG_button_clicked(button):\n",
    "    with determine_EPSG_output:\n",
    "        clear_output()\n",
    "        zone = str((math.floor((longitude_floattext.value + 180) / 6) % 60) + 1)\n",
    "        epsg_code = 32600\n",
    "        epsg_code += int(zone)\n",
    "        if latitude_floattext.value < 0:\n",
    "            epsg_code += 100\n",
    "        print(f'EPSG: {epsg_code}')\n",
    "        \n",
    "determine_EPSG_button.on_click(on_determine_EPSG_button_clicked)\n",
    "\n",
    "display(\n",
    "    widgets.HBox(\n",
    "        [\n",
    "            longitude_floattext,\n",
    "            latitude_floattext,\n",
    "            determine_EPSG_button,\n",
    "            determine_EPSG_output\n",
    "        ]\n",
    "    )\n",
    ")"
   ]
  },
  {
   "cell_type": "markdown",
   "metadata": {},
   "source": [
    "To build the EPT data set, either the ASCII directory or an idividual ASCII file path is required. If a directory is passed, it will be attempted to read all PDAL readable files in the directory. If force new build is deactivated, the EPT data set with an identical name will be extended."
   ]
  },
  {
   "cell_type": "code",
   "execution_count": 7,
   "metadata": {
    "ExecuteTime": {
     "end_time": "2020-12-14T17:56:36.313646Z",
     "start_time": "2020-12-14T17:56:36.244601Z"
    },
    "deletable": false,
    "editable": false,
    "hide_input": false,
    "init_cell": true
   },
   "outputs": [
    {
     "data": {
      "application/vnd.jupyter.widget-view+json": {
       "model_id": "ec3135236e9a44d1879d8b74dd272bdd",
       "version_major": 2,
       "version_minor": 0
      },
      "text/plain": [
       "Text(value='', continuous_update=False, layout=Layout(width='67%'), placeholder='Enter ASCII data file or dire…"
      ]
     },
     "metadata": {},
     "output_type": "display_data"
    },
    {
     "data": {
      "application/vnd.jupyter.widget-view+json": {
       "model_id": "c39379acad3844f79785d9f6177d60b1",
       "version_major": 2,
       "version_minor": 0
      },
      "text/plain": [
       "HBox(children=(Text(value='', continuous_update=False, layout=Layout(width='20%'), placeholder='EPSG code'), C…"
      ]
     },
     "metadata": {},
     "output_type": "display_data"
    },
    {
     "data": {
      "application/vnd.jupyter.widget-view+json": {
       "model_id": "612d6d05200f43be9c4ad3dfc71f3a78",
       "version_major": 2,
       "version_minor": 0
      },
      "text/plain": [
       "Output()"
      ]
     },
     "metadata": {},
     "output_type": "display_data"
    }
   ],
   "source": [
    "ASCII_directory_text = widgets.Text(\n",
    "    placeholder='Enter ASCII data file or directory',\n",
    "    continuous_update=False,\n",
    "    layout=widgets.Layout(width='67%')\n",
    ")\n",
    "\n",
    "def on_ASCII_directory_text_change(change):\n",
    "    with ASCII_to_EPT_output:\n",
    "        clear_output()\n",
    "        if not os.path.exists(change['new']):\n",
    "            logging.warning('Not a valid directory')\n",
    "            ASCII_directory_text.value = ''\n",
    "            \n",
    "ASCII_directory_text.observe(on_ASCII_directory_text_change, names='value')\n",
    "\n",
    "EPSG_code_text = widgets.Text(\n",
    "    placeholder='EPSG code',\n",
    "    continuous_update=False,\n",
    "    layout=widgets.Layout(width='20%')\n",
    ")\n",
    "\n",
    "def on_EPSG_code_text_change(change):\n",
    "    with ASCII_to_EPT_output:\n",
    "        clear_output()\n",
    "        if not len(change['new']) == 5:\n",
    "            logging.warning('Not a valid EPSG code')\n",
    "            EPSG_code_text.value = ''\n",
    "            \n",
    "EPSG_code_text.observe(on_EPSG_code_text_change, names='value')\n",
    "\n",
    "force_EPT_checkbox = widgets.Checkbox(\n",
    "    value=True,\n",
    "    description='Force new build'\n",
    ")\n",
    "\n",
    "ASCII_to_EPT_button = widgets.Button(\n",
    "    description='Build EPTs',\n",
    "    button_style='info', \n",
    "    tooltip='Convert the ASCII directory/file to an EPT data set'\n",
    ")\n",
    "\n",
    "ASCII_to_EPT_output = widgets.Output()\n",
    "\n",
    "def on_ASCII_to_EPT_button_clicked(button):\n",
    "    ASCII_to_EPT_button.disabled = True\n",
    "    ASCII_to_EPT_button.button_style = 'warning'\n",
    "    with ASCII_to_EPT_output:\n",
    "        clear_output()\n",
    "        if ASCII_directory_text.value and EPSG_code_text.value:\n",
    "            path = Path(ASCII_directory_text.value)\n",
    "            # If path is a directory\n",
    "            if path.is_dir():\n",
    "                directory = path\n",
    "                ASCII_to_EPT_config = {\n",
    "                    \"input\": Path.joinpath(path, \"*\").as_posix(),\n",
    "                    \"reprojection\": {\n",
    "                        \"in\": \"EPSG:4326\",\n",
    "                        \"out\": \"EPSG:\" + EPSG_code_text.value\n",
    "                    },\n",
    "                    \"force\": force_EPT_checkbox.value,\n",
    "                    \"output\": Path.joinpath(directory, \"EPT_data\").as_posix()\n",
    "                }\n",
    "            # If path is a file\n",
    "            if path.is_file():\n",
    "                directory = path.parent\n",
    "                ASCII_to_EPT_config = {\n",
    "                    \"input\": path.as_posix(),\n",
    "                    \"reprojection\": {\n",
    "                        \"in\": \"EPSG:4326\",\n",
    "                        \"out\": \"EPSG:\" + EPSG_code_text.value\n",
    "                    },\n",
    "                    \"force\": force_EPT_checkbox.value,\n",
    "                    \"output\": Path.joinpath(directory, \"EPT_data\").as_posix()\n",
    "                }\n",
    "            json.dump(\n",
    "                ASCII_to_EPT_config,\n",
    "                open(Path.joinpath(directory, \"ASCII_to_EPT_config.json\").as_posix(), 'w'),\n",
    "                indent=4\n",
    "            )\n",
    "            print('Building EPTs ...')\n",
    "            run_subprocess(\n",
    "                [\n",
    "                    'entwine',\n",
    "                    'build',\n",
    "                    '-c',\n",
    "                    Path.joinpath(directory, \"ASCII_to_EPT_config.json\").as_posix()\n",
    "                ]\n",
    "            )\n",
    "            os.remove(Path.joinpath(directory, \"ASCII_to_EPT_config.json\").as_posix())\n",
    "            clear_output()\n",
    "            print('Finished!')\n",
    "            EPT_directory_text.value = Path.joinpath(directory, \"EPT_data\").as_posix()\n",
    "        else:\n",
    "            logging.warning('Missing information')\n",
    "    ASCII_to_EPT_button.disabled = False\n",
    "    ASCII_to_EPT_button.button_style = 'info'\n",
    "        \n",
    "ASCII_to_EPT_button.on_click(on_ASCII_to_EPT_button_clicked)\n",
    "\n",
    "display(\n",
    "    ASCII_directory_text,\n",
    "    widgets.HBox(\n",
    "        [\n",
    "            EPSG_code_text,\n",
    "            force_EPT_checkbox,\n",
    "            ASCII_to_EPT_button\n",
    "        ]\n",
    "    ),\n",
    "    ASCII_to_EPT_output\n",
    ")"
   ]
  },
  {
   "cell_type": "markdown",
   "metadata": {},
   "source": [
    "# MBES EPTs\n",
    "\n",
    "If you have previously created an EPT data set, you can skip step 1 and directly continue with your EPT data set:"
   ]
  },
  {
   "cell_type": "code",
   "execution_count": 8,
   "metadata": {
    "ExecuteTime": {
     "end_time": "2020-12-14T17:56:36.360470Z",
     "start_time": "2020-12-14T17:56:36.313646Z"
    },
    "deletable": false,
    "editable": false,
    "hide_input": false,
    "init_cell": true,
    "scrolled": false
   },
   "outputs": [
    {
     "data": {
      "application/vnd.jupyter.widget-view+json": {
       "model_id": "c0c44d7964f34ed88879eeee692bfe6d",
       "version_major": 2,
       "version_minor": 0
      },
      "text/plain": [
       "HBox(children=(Text(value='', continuous_update=False, layout=Layout(width='80%'), placeholder='Enter EPT data…"
      ]
     },
     "metadata": {},
     "output_type": "display_data"
    },
    {
     "data": {
      "application/vnd.jupyter.widget-view+json": {
       "model_id": "c39266fdbc184f469371a258a070c737",
       "version_major": 2,
       "version_minor": 0
      },
      "text/plain": [
       "Output()"
      ]
     },
     "metadata": {},
     "output_type": "display_data"
    }
   ],
   "source": [
    "# Global variables which are used troughout the notebook\n",
    "EPT_directory = ''\n",
    "EPT_name = ''\n",
    "\n",
    "###########################################################################################################\n",
    "\n",
    "# 'Enter EPT data directory' text field to enter the directory to the EPT \n",
    "# data set\n",
    "EPT_directory_text = widgets.Text(\n",
    "    placeholder='Enter EPT data directory',\n",
    "    # Disable continuous updates to only activate the observer\n",
    "    # when the directory has been fully entered\n",
    "    continuous_update=False,\n",
    "    layout=widgets.Layout(width='80%')\n",
    ")\n",
    "\n",
    "# Output of 'Enter EPT data directory' text field\n",
    "EPT_directory_output = widgets.Output()\n",
    "\n",
    "# Function to be executed on when the EPT directory is changed\n",
    "def on_EPT_directory_text_change(change):\n",
    "    global EPT_directory\n",
    "    global EPT_name\n",
    "    # Disable 'Update Potree viewer' button\n",
    "    update_Potree_button.disabled = True\n",
    "    update_Potree_button.button_style = 'warning'\n",
    "    with EPT_directory_output:\n",
    "        clear_output()\n",
    "        # Check if directory is valid\n",
    "        if not os.path.isdir(change['new']):\n",
    "            # If not: Throw a warning\n",
    "            logging.warning('Not a valid directory')\n",
    "        else:\n",
    "            # If: Update EPT directory and name\n",
    "            EPT_directory = os.path.dirname(change['new'])\n",
    "            EPT_name = os.path.basename(change['new'])\n",
    "            # Start a NodeJS HTTP server to deliver the EPT data set to the Potree page\n",
    "            http_server = subprocess.Popen(\n",
    "                [\n",
    "                    'node', \n",
    "                    npm_http_server_path, \n",
    "                    EPT_directory, \n",
    "                    '-p', \n",
    "                    '8080', # Local host 8080\n",
    "                    '--cors'\n",
    "                ]\n",
    "            )\n",
    "            # Display an iFrame with the Potree viewer\n",
    "            display(\n",
    "                IFrame(\n",
    "                    f'https://potree.entwine.io/data/custom.html?r=%22http://localhost:8080/{EPT_name}%22',\n",
    "                    '100%', # Width of iFrame\n",
    "                    '600px' # Height of IFrame\n",
    "                )\n",
    "            )\n",
    "            # Terminate HTTP server with time delay\n",
    "            time.sleep(15)\n",
    "            http_server.terminate()\n",
    "            # Enable 'Update Potree viewer' button again\n",
    "            update_Potree_button.disabled = False\n",
    "            update_Potree_button.button_style = 'info'\n",
    "\n",
    "# Observe the 'Enter EPT data directory' text field and call the respective\n",
    "# function when the directory value changes\n",
    "EPT_directory_text.observe(on_EPT_directory_text_change, names='value')\n",
    "\n",
    "###########################################################################################################\n",
    "\n",
    "# 'Update Potree viewer' button which updates the Potree viewer \n",
    "# if changes have been applied to the given EPT data set\n",
    "update_Potree_button = widgets.Button(\n",
    "    description='Update Potree viewer',\n",
    "    button_style='info',\n",
    "    tooltip='Update Potree viewer if the EPT data set has been changed',\n",
    "    layout=widgets.Layout(width='20%')\n",
    ")\n",
    "\n",
    "# Function to be executed on 'Update Potree viewer' button clicked\n",
    "def on_update_Potree_button_clicked(button):\n",
    "    # Disable 'Update Potree viewer' button\n",
    "    update_Potree_button.disabled = True\n",
    "    update_Potree_button.button_style = 'warning'\n",
    "    with EPT_directory_output:\n",
    "        clear_output()\n",
    "        # Start a Python HTTP server to deliver the EPT data set to the Potree page\n",
    "        http_server = subprocess.Popen(\n",
    "            [\n",
    "                'node', \n",
    "                npm_http_server_path, \n",
    "                EPT_directory, \n",
    "                '-p', \n",
    "                '8080', # Local host 8080\n",
    "                '--cors'\n",
    "            ]\n",
    "        )\n",
    "        # Display an iFrame with the Potree viewer\n",
    "        display(\n",
    "            IFrame(\n",
    "                f'https://potree.entwine.io/data/custom.html?r=%22http://localhost:8080/{EPT_name}%22',\n",
    "                '100%', # Width of iFrame\n",
    "                '600px' # Height of IFrame\n",
    "            )\n",
    "        )\n",
    "        # Terminate HTTP server with time delay\n",
    "        time.sleep(15)\n",
    "        http_server.terminate()\n",
    "    # Enable 'Update Potree viewer' button again\n",
    "    update_Potree_button.disabled = False\n",
    "    update_Potree_button.button_style = 'info'\n",
    "\n",
    "# Connect 'Update Potree viewer' button and function to be executed on button click\n",
    "update_Potree_button.on_click(on_update_Potree_button_clicked)\n",
    "\n",
    "###########################################################################################################\n",
    "\n",
    "# Display the directory text field and the corrsponding output\n",
    "display(\n",
    "    widgets.HBox(\n",
    "        [\n",
    "            EPT_directory_text, \n",
    "            update_Potree_button\n",
    "        ]\n",
    "    ),\n",
    "    EPT_directory_output)"
   ]
  },
  {
   "cell_type": "markdown",
   "metadata": {
    "hide_input": true
   },
   "source": [
    "# MBES Bathymetry Processing\n",
    "\n",
    "The bathymetry processing pipeline consists of [PDAL filter](https://pdal.io/stages/filters.html) stages which are combined and adjusted in order to clean the bathymetric data set for blunders. Due to its orgin in LiDAR, the Potree viewer cannot show customized Classification. In order to respresent the different filter results, following workaround is taken:\n",
    "\n",
    "Filter | Classification value| Class | Color\n",
    "-------- | -------- | -------- | --------\n",
    "Depth window   | 18 | High noise | Turquoise\n",
    "Extended local minimum  | 7 | Low point (noise) | Pink\n",
    "Radius outlier | 4 | Medium vegetation | Green\n",
    "Statistical outlier | 9 | Water | Blue"
   ]
  },
  {
   "cell_type": "markdown",
   "metadata": {},
   "source": [
    "## Pipeline configuration\n",
    "\n",
    "When firstly running an outlier classification, the 'Classification' dimension might not be yet created (It is for ASCII files from the Kongsberg MBES preprocessing module).\n",
    "\n",
    "Following stages can't be run then:\n",
    "- Reset any classfication\n",
    "- Depth window filter\n",
    "\n",
    "This is beacuse the assign classification values rather then creating them.\n",
    "\n",
    "A workaround is to firstly use one of the other filters (ELM, radius outlier and/or statistical outlier filter) and then reset them in order to apply the depth window at the beginning of the bathymetry filter pipeline."
   ]
  },
  {
   "cell_type": "markdown",
   "metadata": {},
   "source": [
    "### Reset previous classification\n",
    "\n",
    "When enabled, this step will reset any classification which has been applied ealier."
   ]
  },
  {
   "cell_type": "code",
   "execution_count": 9,
   "metadata": {
    "ExecuteTime": {
     "end_time": "2020-12-14T17:56:36.391800Z",
     "start_time": "2020-12-14T17:56:36.360470Z"
    },
    "deletable": false,
    "editable": false,
    "init_cell": true
   },
   "outputs": [
    {
     "data": {
      "application/vnd.jupyter.widget-view+json": {
       "model_id": "aa0db4b3eed94242a5c6d388366e70c0",
       "version_major": 2,
       "version_minor": 0
      },
      "text/plain": [
       "Checkbox(value=False, description='Reset any classification')"
      ]
     },
     "metadata": {},
     "output_type": "display_data"
    }
   ],
   "source": [
    "# Reset classification\n",
    "reset_classification = {\n",
    "    \"type\":\"filters.assign\",\n",
    "    \"assignment\":\"Classification[:]=0\"\n",
    "}\n",
    "\n",
    "reset_classification_checkbox = widgets.Checkbox(\n",
    "    value=False,\n",
    "    description='Reset any classification')\n",
    "\n",
    "display(reset_classification_checkbox)"
   ]
  },
  {
   "cell_type": "markdown",
   "metadata": {},
   "source": [
    "### Depth window filter\n",
    "\n",
    "The depth window filter simply filters all the points which lie outside the defined min and max values. It is important that the passed values are negative."
   ]
  },
  {
   "cell_type": "code",
   "execution_count": 10,
   "metadata": {
    "ExecuteTime": {
     "end_time": "2020-12-14T17:56:36.429102Z",
     "start_time": "2020-12-14T17:56:36.391800Z"
    },
    "deletable": false,
    "editable": false,
    "hide_input": true,
    "init_cell": true
   },
   "outputs": [
    {
     "data": {
      "application/vnd.jupyter.widget-view+json": {
       "model_id": "e2e9bfb8be2e4ab08696171fa3460893",
       "version_major": 2,
       "version_minor": 0
      },
      "text/plain": [
       "FloatText(value=-200.0, description='Min depth:')"
      ]
     },
     "metadata": {},
     "output_type": "display_data"
    },
    {
     "data": {
      "application/vnd.jupyter.widget-view+json": {
       "model_id": "6f4d532ae5a44d099e3a1f61404fbda4",
       "version_major": 2,
       "version_minor": 0
      },
      "text/plain": [
       "FloatText(value=-5000.0, description='Max depth:')"
      ]
     },
     "metadata": {},
     "output_type": "display_data"
    },
    {
     "data": {
      "application/vnd.jupyter.widget-view+json": {
       "model_id": "6f3ab9782e084b39b449a6626551c742",
       "version_major": 2,
       "version_minor": 0
      },
      "text/plain": [
       "Checkbox(value=False, description='Use depth window filter')"
      ]
     },
     "metadata": {},
     "output_type": "display_data"
    }
   ],
   "source": [
    "window_min_depth_floattext = widgets.FloatText(\n",
    "    value=-200,\n",
    "    description='Min depth:'\n",
    ")\n",
    "\n",
    "window_max_depth_floattext = widgets.FloatText(\n",
    "    value=-5000,\n",
    "    description='Max depth:'\n",
    ")\n",
    "\n",
    "window_filter_checkbox = widgets.Checkbox(\n",
    "    value=False,\n",
    "    description='Use depth window filter')\n",
    "\n",
    "display(window_min_depth_floattext, window_max_depth_floattext, window_filter_checkbox)"
   ]
  },
  {
   "cell_type": "markdown",
   "metadata": {},
   "source": [
    "### Extended local minimum filter\n",
    "\n",
    "The [Extended Local Minimum (ELM) filter](https://pdal.io/stages/filters.elm.html) works on a raster basis. In each cell, the lowest value will be classified as outlier when more than a defined threshold below the second lowest point. This procedure is then continued with the second, third ... lowest point until the threshold is not anymore exceeded. When determining the parameters of the ELM filter, it is helpfull to use Potree's measurement tools. The cell size should not be smaller than the minimum sounding distance."
   ]
  },
  {
   "cell_type": "code",
   "execution_count": 11,
   "metadata": {
    "ExecuteTime": {
     "end_time": "2020-12-14T17:56:36.475966Z",
     "start_time": "2020-12-14T17:56:36.429102Z"
    },
    "deletable": false,
    "editable": false,
    "hide_input": true,
    "init_cell": true
   },
   "outputs": [
    {
     "data": {
      "application/vnd.jupyter.widget-view+json": {
       "model_id": "3c9220f1c4d7440dad4e24ff703b880c",
       "version_major": 2,
       "version_minor": 0
      },
      "text/plain": [
       "BoundedFloatText(value=200.0, description='Cell size:', max=500.0, min=0.1, step=0.1)"
      ]
     },
     "metadata": {},
     "output_type": "display_data"
    },
    {
     "data": {
      "application/vnd.jupyter.widget-view+json": {
       "model_id": "d20cb4470f7e4503a46f0ae43de1d535",
       "version_major": 2,
       "version_minor": 0
      },
      "text/plain": [
       "BoundedFloatText(value=30.0, description='Threshold:', max=500.0, min=0.1, step=0.1)"
      ]
     },
     "metadata": {},
     "output_type": "display_data"
    },
    {
     "data": {
      "application/vnd.jupyter.widget-view+json": {
       "model_id": "e643fda3e05648b58d6863d5446f807c",
       "version_major": 2,
       "version_minor": 0
      },
      "text/plain": [
       "Checkbox(value=False, description='Use extended local minimum filter')"
      ]
     },
     "metadata": {},
     "output_type": "display_data"
    }
   ],
   "source": [
    "# Cell size. [Default: 200.0]\n",
    "ELM_cell_floattext = widgets.BoundedFloatText(\n",
    "    value=200.0,\n",
    "    min=0.1,\n",
    "    max=500.0,\n",
    "    step=0.1,\n",
    "    description='Cell size:')\n",
    "\n",
    "def on_ELM_cell_floattext_change(change):\n",
    "    ELM_filter['cell'] = change['new']\n",
    "\n",
    "ELM_cell_floattext.observe(on_ELM_cell_floattext_change, 'value')\n",
    "\n",
    "# Threshold value to identify low noise points. [Default: 30.0]\n",
    "ELM_threshold_floattext = widgets.BoundedFloatText(\n",
    "    value=30.0,\n",
    "    min=0.1,\n",
    "    max=500.0,\n",
    "    step=0.1,\n",
    "    description='Threshold:')\n",
    "\n",
    "\n",
    "\n",
    "def on_ELM_threshold_floattext_change(change):\n",
    "    ELM_filter['threshold'] = change['new']\n",
    "\n",
    "ELM_threshold_floattext.observe(on_ELM_threshold_floattext_change, 'value')\n",
    "\n",
    "ELM_filter = {\n",
    "    \"type\": \"filters.elm\",\n",
    "    \"where\": \"(Classification == 0)\",\n",
    "    \"cell\": ELM_cell_floattext.value,\n",
    "    \"threshold\": ELM_threshold_floattext.value,\n",
    "    \"class\": 7\n",
    "}\n",
    "\n",
    "ELM_filter_checkbox = widgets.Checkbox(\n",
    "    value=False,\n",
    "    description='Use extended local minimum filter')\n",
    "\n",
    "display(ELM_cell_floattext, ELM_threshold_floattext, ELM_filter_checkbox)"
   ]
  },
  {
   "cell_type": "markdown",
   "metadata": {
    "hide_input": true
   },
   "source": [
    "### Radius outlier filter\n",
    "\n",
    "For each point, the [radius outlier filter](https://pdal.io/stages/filters.outlier.html#filters-outlier) counts the number of neighbors k within the defined radius. If the number is lower than the $min_k$, the point will be classified as outlier.\n",
    "\n",
    "Again, it is helpful to use the measurement tools provided in the Potree viewer to determine suitable settings"
   ]
  },
  {
   "cell_type": "code",
   "execution_count": 12,
   "metadata": {
    "ExecuteTime": {
     "end_time": "2020-12-14T17:56:36.529419Z",
     "start_time": "2020-12-14T17:56:36.475966Z"
    },
    "deletable": false,
    "editable": false,
    "hide_input": true,
    "init_cell": true,
    "scrolled": false
   },
   "outputs": [
    {
     "data": {
      "application/vnd.jupyter.widget-view+json": {
       "model_id": "b13581812d7e40c1af912a653306c6ab",
       "version_major": 2,
       "version_minor": 0
      },
      "text/plain": [
       "BoundedFloatText(value=150.0, description='Radius:', max=500.0, min=0.1, step=0.1)"
      ]
     },
     "metadata": {},
     "output_type": "display_data"
    },
    {
     "data": {
      "application/vnd.jupyter.widget-view+json": {
       "model_id": "2149efb771e94a849799aa4d54de6ebd",
       "version_major": 2,
       "version_minor": 0
      },
      "text/plain": [
       "IntSlider(value=11, description='Min k:', max=50, min=1)"
      ]
     },
     "metadata": {},
     "output_type": "display_data"
    },
    {
     "data": {
      "application/vnd.jupyter.widget-view+json": {
       "model_id": "899f27f902e94214ace7b5ead613cb7a",
       "version_major": 2,
       "version_minor": 0
      },
      "text/plain": [
       "Checkbox(value=False, description='Use radius outlier filter')"
      ]
     },
     "metadata": {},
     "output_type": "display_data"
    }
   ],
   "source": [
    "# Radius. [Default: 150.0]\n",
    "ROF_radius_floattext = widgets.BoundedFloatText(\n",
    "    value=150.0,\n",
    "    min=0.1,\n",
    "    max=500.0,\n",
    "    step=0.1,\n",
    "    description='Radius:')\n",
    "\n",
    "def on_ROF_radius_floattext_change(change):\n",
    "    radius_outlier_filter['radius'] = change['new']\n",
    "\n",
    "ROF_radius_floattext.observe(on_ROF_radius_floattext_change, 'value')\n",
    "\n",
    "# Minimum number of neighbors in radius. [Default: 11]\n",
    "ROF_min_k_intslider = widgets.IntSlider(\n",
    "    value=11,\n",
    "    min=1,\n",
    "    max=50,\n",
    "    step=1,\n",
    "    description='Min k:')\n",
    "\n",
    "def on_ROF_min_k_intslider_change(change):\n",
    "    radius_outlier_filter['min_k'] = change['new']\n",
    "\n",
    "ROF_min_k_intslider.observe(on_ROF_min_k_intslider_change, 'value')\n",
    "\n",
    "radius_outlier_filter = {\n",
    "    \"type\": \"filters.outlier\",\n",
    "    \"method\": \"radius\",\n",
    "    \"where\": \"(Classification == 0)\",\n",
    "    \"radius\": ROF_radius_floattext.value,\n",
    "    \"min_k\": ROF_min_k_intslider.value,\n",
    "    \"class\": 4\n",
    "}\n",
    "\n",
    "radius_outlier_filter_checkbox = widgets.Checkbox(\n",
    "    value=False,\n",
    "    description='Use radius outlier filter')\n",
    "\n",
    "display(ROF_radius_floattext, ROF_min_k_intslider, radius_outlier_filter_checkbox)"
   ]
  },
  {
   "cell_type": "markdown",
   "metadata": {},
   "source": [
    "### Statistical outlier filter\n",
    "\n",
    "The [statistical outlier filter](https://pdal.io/stages/filters.outlier.html#filters-outlier), in contrast to the previous filters, uses global statistics to identify outliers. In a first pass through the point cloud, the mean distante to $mean_k$ neighbors is determined. Then the global mean of the distances $\\mu$ and its standard deviation $\\sigma$ is computed. Based on these two, a threshold $t$ defined:\n",
    "\n",
    "\\begin{equation*}\n",
    "t = \\mu + m \\sigma\n",
    "\\end{equation*}\n",
    "\n",
    "Thereby $m$ is a multiplier to in- or decrease the threshold\n",
    "\n",
    "In a second pass, all the soundings are classified as outlier whichs mean distance exceeds the $t$."
   ]
  },
  {
   "cell_type": "code",
   "execution_count": 13,
   "metadata": {
    "ExecuteTime": {
     "end_time": "2020-12-14T17:56:36.560626Z",
     "start_time": "2020-12-14T17:56:36.529419Z"
    },
    "deletable": false,
    "editable": false,
    "hide_input": true,
    "init_cell": true,
    "scrolled": true
   },
   "outputs": [
    {
     "data": {
      "application/vnd.jupyter.widget-view+json": {
       "model_id": "08acd18fb89941198a2020085adc6988",
       "version_major": 2,
       "version_minor": 0
      },
      "text/plain": [
       "IntSlider(value=7, description='Mean k:', max=50, min=1)"
      ]
     },
     "metadata": {},
     "output_type": "display_data"
    },
    {
     "data": {
      "application/vnd.jupyter.widget-view+json": {
       "model_id": "93d65cee5ca34b3d97b9d1d768c357a4",
       "version_major": 2,
       "version_minor": 0
      },
      "text/plain": [
       "FloatSlider(value=3.0, description='Multiplier:', max=10.0, min=0.1, readout_format='.1f')"
      ]
     },
     "metadata": {},
     "output_type": "display_data"
    },
    {
     "data": {
      "application/vnd.jupyter.widget-view+json": {
       "model_id": "16b2f86bd14d48b8ae23922eae74ff7e",
       "version_major": 2,
       "version_minor": 0
      },
      "text/plain": [
       "Checkbox(value=False, description='Use statistical outlier filter')"
      ]
     },
     "metadata": {},
     "output_type": "display_data"
    }
   ],
   "source": [
    "# Mean number of neighbors. [Default: 7]\n",
    "SOF_mean_k_intslider = widgets.IntSlider(\n",
    "    value=7,\n",
    "    min=1,\n",
    "    max=50,\n",
    "    step=1,\n",
    "    description='Mean k:')\n",
    "\n",
    "def on_SOF_mean_k_intslider_change(change):\n",
    "    statistical_outlier_filter['mean_k'] = change['new']\n",
    "\n",
    "SOF_mean_k_intslider.observe(on_SOF_mean_k_intslider_change, 'value')\n",
    "\n",
    "# Standard deviation multiplier. [Default: 3.0]\n",
    "SOF_multiplier_floatslider = widgets.FloatSlider(\n",
    "    value=3.0,\n",
    "    min=0.1,\n",
    "    max=10.0,\n",
    "    step=0.1,\n",
    "    readout_format='.1f',\n",
    "    description='Multiplier:')\n",
    "\n",
    "def on_SOF_multiplier_floatslider_change(change):\n",
    "    statistical_outlier_filter['multiplier'] = change['new']\n",
    "\n",
    "SOF_multiplier_floatslider.observe(on_SOF_multiplier_floatslider_change, 'value')\n",
    "\n",
    "statistical_outlier_filter = {\n",
    "    \"type\": \"filters.outlier\",\n",
    "    \"method\": \"statistical\",\n",
    "    \"where\": \"(Classification == 0)\",\n",
    "    \"mean_k\": SOF_mean_k_intslider.value,\n",
    "    \"multiplier\": SOF_multiplier_floatslider.value,\n",
    "    \"class\": 9\n",
    "}\n",
    "\n",
    "statistical_outlier_filter_checkbox = widgets.Checkbox(\n",
    "    value=False,\n",
    "    description='Use statistical outlier filter')\n",
    "\n",
    "display(SOF_mean_k_intslider, SOF_multiplier_floatslider, statistical_outlier_filter_checkbox)"
   ]
  },
  {
   "cell_type": "markdown",
   "metadata": {},
   "source": [
    "## Execute bathymetry pipeline\n",
    "\n",
    "To inspect the filtering result, the above viewer has to be updated using the provided button.\n",
    "\n",
    "Hint: The pipeline which is shown once the pipeline is constructed, can be saved with the extension `*.json` and kept as record for the data cleaning"
   ]
  },
  {
   "cell_type": "code",
   "execution_count": 14,
   "metadata": {
    "ExecuteTime": {
     "end_time": "2020-12-14T17:56:36.614007Z",
     "start_time": "2020-12-14T17:56:36.560626Z"
    },
    "deletable": false,
    "editable": false,
    "hide_input": true,
    "init_cell": true,
    "scrolled": false
   },
   "outputs": [
    {
     "data": {
      "application/vnd.jupyter.widget-view+json": {
       "model_id": "f9406d07d54548cbb7b8cf98a9858a54",
       "version_major": 2,
       "version_minor": 0
      },
      "text/plain": [
       "Button(button_style='info', description='Build bathymetry pipeline', layout=Layout(width='20%'), style=ButtonS…"
      ]
     },
     "metadata": {},
     "output_type": "display_data"
    },
    {
     "data": {
      "application/vnd.jupyter.widget-view+json": {
       "model_id": "a6036ebea50d43e5a6283bb4a01db355",
       "version_major": 2,
       "version_minor": 0
      },
      "text/plain": [
       "Output()"
      ]
     },
     "metadata": {},
     "output_type": "display_data"
    }
   ],
   "source": [
    "build_bathymetry_pipeline_button = widgets.Button(\n",
    "    description='Build bathymetry pipeline',\n",
    "    button_style='info',\n",
    "    tooltip='Build PDAL filter pipeline for bathymetry',\n",
    "    layout=widgets.Layout(width='20%'))\n",
    "\n",
    "build_bathymetry_pipeline_output = widgets.Output()\n",
    "\n",
    "bathymetry_pipeline = []\n",
    "\n",
    "def on_build_bathymetry_pipeline_button_clicked(button):\n",
    "    EPT_reader = {\n",
    "    \"type\": \"readers.ept\",\n",
    "    \"filename\": Path(os.path.join(EPT_directory, EPT_name, 'ept.json')).as_posix()\n",
    "\n",
    "    }\n",
    "\n",
    "    LAS_writer = {\n",
    "        \"type\": \"writers.las\",\n",
    "        \"filename\": Path(os.path.join(EPT_directory, 'temp.las')).as_posix()\n",
    "    }\n",
    "    with build_bathymetry_pipeline_output:\n",
    "        clear_output()\n",
    "        global bathymetry_pipeline\n",
    "        bathymetry_pipeline = [EPT_reader]\n",
    "        if reset_classification_checkbox.value:\n",
    "            bathymetry_pipeline.append(reset_classification)\n",
    "        if window_filter_checkbox.value:\n",
    "            window_min_filter = {\n",
    "                \"type\": \"filters.assign\",\n",
    "                \"value\" : f'Classification = 18 WHERE Z > {window_min_depth_floattext.value}'\n",
    "            }\n",
    "            bathymetry_pipeline.append(window_min_filter)\n",
    "            window_max_filter = {\n",
    "                \"type\": \"filters.assign\",\n",
    "                \"value\" : f'Classification = 18 WHERE Z < {window_max_depth_floattext.value}'\n",
    "            }\n",
    "            bathymetry_pipeline.append(window_max_filter)\n",
    "        if ELM_filter_checkbox.value:\n",
    "            bathymetry_pipeline.append(ELM_filter)\n",
    "        if radius_outlier_filter_checkbox.value:\n",
    "            bathymetry_pipeline.append(radius_outlier_filter)\n",
    "        if statistical_outlier_filter_checkbox.value:\n",
    "            bathymetry_pipeline.append(statistical_outlier_filter)\n",
    "        bathymetry_pipeline.append(LAS_writer)\n",
    "        print(json.dumps(bathymetry_pipeline, indent=4))\n",
    "\n",
    "build_bathymetry_pipeline_button.on_click(on_build_bathymetry_pipeline_button_clicked)\n",
    "\n",
    "display(build_bathymetry_pipeline_button, build_bathymetry_pipeline_output)"
   ]
  },
  {
   "cell_type": "code",
   "execution_count": 15,
   "metadata": {
    "ExecuteTime": {
     "end_time": "2020-12-14T17:56:36.645251Z",
     "start_time": "2020-12-14T17:56:36.614007Z"
    },
    "deletable": false,
    "editable": false,
    "hide_input": false,
    "init_cell": true,
    "scrolled": false
   },
   "outputs": [
    {
     "data": {
      "application/vnd.jupyter.widget-view+json": {
       "model_id": "b2bc5107803644bca041b2bd6be37c75",
       "version_major": 2,
       "version_minor": 0
      },
      "text/plain": [
       "Button(button_style='info', description='Run bathymetry pipeline', layout=Layout(width='20%'), style=ButtonSty…"
      ]
     },
     "metadata": {},
     "output_type": "display_data"
    },
    {
     "data": {
      "application/vnd.jupyter.widget-view+json": {
       "model_id": "c3cede4bf4c34fd4b30dfffe9ac794f3",
       "version_major": 2,
       "version_minor": 0
      },
      "text/plain": [
       "Output()"
      ]
     },
     "metadata": {},
     "output_type": "display_data"
    }
   ],
   "source": [
    "# 'Run bathymetry pipeline' pipeline button \n",
    "run_bathymetry_pipeline_button = widgets.Button(\n",
    "    description='Run bathymetry pipeline',\n",
    "    button_style='info', # 'success', 'info', 'warning', 'danger' or ''\n",
    "    tooltip='Run PDAL filter pipeline for bathymetry',\n",
    "    layout=widgets.Layout(width='20%'))\n",
    "\n",
    "# Output of 'Run bathymetry pipeline' pipeline button \n",
    "run_bathymetry_pipeline_output = widgets.Output()\n",
    "\n",
    "# Function to be executed on 'Run bathymetry pipeline' pipeline button clicked\n",
    "def on_run_bathymetry_pipeline_button_clicked(button):\n",
    "    with run_bathymetry_pipeline_output:\n",
    "        clear_output()\n",
    "        # Save temporary JSON pipeline file for PDAL subprocess execution\n",
    "        json.dump(\n",
    "            bathymetry_pipeline,\n",
    "            open(Path(os.path.join(EPT_directory, 'bathymetry_pipeline.json')).as_posix(), 'w'),\n",
    "            indent=4\n",
    "        )\n",
    "        # Execute PDAL bathymetry filter pipeline as Python subprocess\n",
    "        print('Executing filter pipeline ...')\n",
    "        run_subprocess(\n",
    "            [\n",
    "                'pdal',\n",
    "                'pipeline',\n",
    "                Path(os.path.join(EPT_directory, 'bathymetry_pipeline.json')).as_posix(),\n",
    "            ]\n",
    "        )\n",
    "        clear_output()\n",
    "        # Build updated EPTs from intermediate LAS as Python subprocess\n",
    "        # --force flag florces a new build instead of appending to the old\n",
    "        print('Updating EPTs ..')\n",
    "        run_subprocess(\n",
    "            [\n",
    "                'entwine',\n",
    "                'build',\n",
    "                '-i',\n",
    "                Path(os.path.join(EPT_directory, 'temp.las')).as_posix(),\n",
    "                '-o',\n",
    "                Path(os.path.join(EPT_directory, EPT_name)).as_posix(),\n",
    "                '--force'\n",
    "            ]\n",
    "        )\n",
    "        print('Removing temporary files...')\n",
    "        # Temporary files: JSON pipeline and intermediate LAS\n",
    "        os.remove(Path(os.path.join(EPT_directory, 'bathymetry_pipeline.json')).as_posix())\n",
    "        os.remove(Path(os.path.join(EPT_directory, 'temp.las')).as_posix())\n",
    "        clear_output()\n",
    "        print('Finished PDAL filter pipeline for bathymetry!')\n",
    "        \n",
    "# Connect 'Run bathymetry pipeline' button and function to be executed on button click\n",
    "run_bathymetry_pipeline_button.on_click(on_run_bathymetry_pipeline_button_clicked)\n",
    "\n",
    "# Display widgets and ouput\n",
    "display(\n",
    "    run_bathymetry_pipeline_button,\n",
    "    run_bathymetry_pipeline_output\n",
    ")"
   ]
  },
  {
   "cell_type": "markdown",
   "metadata": {
    "hide_input": true
   },
   "source": [
    "# MBES Backscatter Processing\n",
    "\n",
    "The backscatter processing in contrast to the bathymetry processing cannot (yet) be inspected in the Potree viewer. The result will directly be exported to a grid and can than be inspected externally. A suitable tool would be the open source GIS software [QGIS](https://qgis.org/en/site/)."
   ]
  },
  {
   "cell_type": "markdown",
   "metadata": {},
   "source": [
    "## Pipeline configuration"
   ]
  },
  {
   "cell_type": "markdown",
   "metadata": {},
   "source": [
    "### ~~DEM filter~~ <font color='red'>not yet functional</font>"
   ]
  },
  {
   "cell_type": "code",
   "execution_count": 16,
   "metadata": {
    "ExecuteTime": {
     "end_time": "2020-12-14T17:56:36.714288Z",
     "start_time": "2020-12-14T17:56:36.645251Z"
    },
    "deletable": false,
    "editable": false,
    "hide_input": true,
    "init_cell": true,
    "scrolled": true
   },
   "outputs": [
    {
     "data": {
      "application/vnd.jupyter.widget-view+json": {
       "model_id": "ddf2a0eb4652420898db9985d3aa5278",
       "version_major": 2,
       "version_minor": 0
      },
      "text/plain": [
       "Text(value='', continuous_update=False, description='Raster:', placeholder='GDAL readable raster')"
      ]
     },
     "metadata": {},
     "output_type": "display_data"
    },
    {
     "data": {
      "application/vnd.jupyter.widget-view+json": {
       "model_id": "0f96bfb1593f41beadd93e0f7a425b8c",
       "version_major": 2,
       "version_minor": 0
      },
      "text/plain": [
       "BoundedIntText(value=30, description='Lower limit:', max=500, step=5)"
      ]
     },
     "metadata": {},
     "output_type": "display_data"
    },
    {
     "data": {
      "application/vnd.jupyter.widget-view+json": {
       "model_id": "9efecb9a46de46d0bca2cd4562837062",
       "version_major": 2,
       "version_minor": 0
      },
      "text/plain": [
       "BoundedIntText(value=30, description='Upper limit:', max=500, step=5)"
      ]
     },
     "metadata": {},
     "output_type": "display_data"
    },
    {
     "data": {
      "application/vnd.jupyter.widget-view+json": {
       "model_id": "3ed232b0531e49e0b9b31312408d60f7",
       "version_major": 2,
       "version_minor": 0
      },
      "text/plain": [
       "Dropdown(description='Band:', index=2, options=(('Min', 1), ('Max', 2), ('Mean', 3), ('IDW', 4)), value=3)"
      ]
     },
     "metadata": {},
     "output_type": "display_data"
    },
    {
     "data": {
      "application/vnd.jupyter.widget-view+json": {
       "model_id": "ceefa471bd2244f5902ffdfae48d4e9e",
       "version_major": 2,
       "version_minor": 0
      },
      "text/plain": [
       "Checkbox(value=False, description='Use DEM filter')"
      ]
     },
     "metadata": {},
     "output_type": "display_data"
    },
    {
     "data": {
      "application/vnd.jupyter.widget-view+json": {
       "model_id": "496e9dd7a75247bfb7c99b139419e9ab",
       "version_major": 2,
       "version_minor": 0
      },
      "text/plain": [
       "Output()"
      ]
     },
     "metadata": {},
     "output_type": "display_data"
    }
   ],
   "source": [
    "DEM_filter_output = widgets.Output()\n",
    "\n",
    "DEM_raster_text = widgets.Text(\n",
    "    value='',\n",
    "    placeholder='GDAL readable raster',\n",
    "    description='Raster:',\n",
    "    continuous_update=False\n",
    ")\n",
    "\n",
    "def on_DEM_raster_text_change(change):\n",
    "    with DEM_filter_output:\n",
    "        clear_output()\n",
    "        if not os.path.isfile(change['new']):\n",
    "            logging.warning('Not a valid file')\n",
    "        DEM_raster_text.value = ''\n",
    "\n",
    "DEM_raster_text.observe(on_DEM_raster_text_change, 'value')\n",
    "#####################################################################################\n",
    "DEM_limits_lower_inttext= widgets.BoundedIntText(\n",
    "    value=30,\n",
    "    min=0,\n",
    "    max=500,\n",
    "    step=5,\n",
    "    description='Lower limit:'\n",
    ")\n",
    "#####################################################################################\n",
    "DEM_limits_upper_inttext = widgets.BoundedIntText(\n",
    "    value=30,\n",
    "    min=0,\n",
    "    max=500,\n",
    "    step=5,\n",
    "    description='Upper limit:'\n",
    ")\n",
    "#####################################################################################\n",
    "DEM_band_dropdown = widgets.Dropdown(\n",
    "    options=[\n",
    "        ('Min', 1),\n",
    "        ('Max', 2),\n",
    "        ('Mean', 3),\n",
    "        ('IDW', 4)\n",
    "    ],\n",
    "    value=3,\n",
    "    description='Band:',\n",
    ")\n",
    "#####################################################################################\n",
    "\n",
    "DEM_filter_checkbox = widgets.Checkbox(\n",
    "    value=False,\n",
    "    description='Use DEM filter')\n",
    "\n",
    "display(\n",
    "    DEM_raster_text,\n",
    "    DEM_limits_lower_inttext,\n",
    "    DEM_limits_upper_inttext,\n",
    "    DEM_band_dropdown,\n",
    "    DEM_filter_checkbox,\n",
    "    DEM_filter_output\n",
    ")"
   ]
  },
  {
   "cell_type": "markdown",
   "metadata": {},
   "source": [
    "### Constant offset and multiplier\n",
    "\n",
    "To apply a constant offset or multiplier to a dimension in PDAL, the [assign filter](https://pdal.io/stages/filters.assign.html#filters-assign) can be used. The assign filter requires a defined syntax to express how the specific dimension is supposed to be altered. The following statement shows the syntax used to formulate an assign filter expression:\n",
    "\n",
    "    \"Dimension = ValueExpression (WHERE ConditionalExpression)\"\n",
    "    \n",
    "Thereby the stated dimension is modified. The value expression defines how each value of the dimension is modified and the conditional expression can be used to express what specific values are modified. When applying this to the backscatter data, it could exemplarily be formulated:\n",
    "\n",
    "\t\"Amplitude = Amplitude * 0.7\"\n",
    "\n",
    "\t\"Amplitude = Amplitude - 20\"\n",
    "\n",
    "The first expression would multiply  each backscatter amplitude value by 0.7 and the second statement would remove -20 dB from each backscatter value. A conditional could as an instance be used to apply the value expression only to a specific range of values. \n",
    "\n",
    "\t\"Amplitude = Amplitude - 20 WHERE OriginId = 0\"\n",
    "\n",
    "This statement only applies the value expression to amplitude values from the source file indicated by the OriginID 0.\n",
    "\n",
    "To apply this filter, an expression in the above named syntax has to be applied."
   ]
  },
  {
   "cell_type": "code",
   "execution_count": 17,
   "metadata": {
    "ExecuteTime": {
     "end_time": "2020-12-14T15:28:33.184137Z",
     "start_time": "2020-12-14T15:28:33.146368Z"
    },
    "deletable": false,
    "editable": false,
    "hide_input": false,
    "init_cell": true
   },
   "outputs": [
    {
     "data": {
      "application/vnd.jupyter.widget-view+json": {
       "model_id": "ae0ad3d98b1745f4a076f0a92b7ab0fe",
       "version_major": 2,
       "version_minor": 0
      },
      "text/plain": [
       "Text(value='Amplitude = Amplitude', continuous_update=False, description='Expression:', layout=Layout(width='6…"
      ]
     },
     "metadata": {},
     "output_type": "display_data"
    },
    {
     "data": {
      "application/vnd.jupyter.widget-view+json": {
       "model_id": "88ba305011e542f1a445303e0e7305dc",
       "version_major": 2,
       "version_minor": 0
      },
      "text/plain": [
       "Checkbox(value=False, description='Use assign filter')"
      ]
     },
     "metadata": {},
     "output_type": "display_data"
    }
   ],
   "source": [
    "O_M_text = widgets.Text(\n",
    "    value='Amplitude = Amplitude',\n",
    "    placeholder='Amplitude = Amplitude',\n",
    "    description='Expression:',\n",
    "    continuous_update=False,\n",
    "    layout=widgets.Layout(width='67%')\n",
    ")\n",
    "\n",
    "O_M_filter_checkbox = widgets.Checkbox(\n",
    "    value=False,\n",
    "    description='Use assign filter')\n",
    "\n",
    "display(O_M_text, O_M_filter_checkbox)"
   ]
  },
  {
   "cell_type": "markdown",
   "metadata": {},
   "source": [
    "## Despeckling (MAD filter)\n",
    "\n",
    "Despeckling mainly occurs due to sensor noise in the receiver. It can be helpful to run a [median absolute deviation filter](https://pdal.io/stages/filters.mad.html#filters-mad) in order to filter out those artifacts. The setting found to work the best is a $k$ value of 3 which culls all samples which have an amplitude more than 3 deviations from the median. A higher $k$ will cull less points and a lower value more."
   ]
  },
  {
   "cell_type": "code",
   "execution_count": 18,
   "metadata": {
    "ExecuteTime": {
     "end_time": "2020-12-14T17:56:36.745533Z",
     "start_time": "2020-12-14T17:56:36.714288Z"
    },
    "deletable": false,
    "editable": false,
    "hide_input": false,
    "init_cell": true
   },
   "outputs": [
    {
     "data": {
      "application/vnd.jupyter.widget-view+json": {
       "model_id": "a409cd9a2ad8445996874cac59b97c76",
       "version_major": 2,
       "version_minor": 0
      },
      "text/plain": [
       "FloatSlider(value=3.0, description='k:', max=10.0, min=0.1, readout_format='.1f')"
      ]
     },
     "metadata": {},
     "output_type": "display_data"
    },
    {
     "data": {
      "application/vnd.jupyter.widget-view+json": {
       "model_id": "f29b6a35d423414cbeb52349b16aba9c",
       "version_major": 2,
       "version_minor": 0
      },
      "text/plain": [
       "Checkbox(value=False, description='Use MAD filter')"
      ]
     },
     "metadata": {},
     "output_type": "display_data"
    }
   ],
   "source": [
    "# The number of deviations from the median. [Default: ]\n",
    "MAD_k_floatslider = widgets.FloatSlider(\n",
    "    value=3.0,\n",
    "    min=0.1,\n",
    "    max=10.0,\n",
    "    step=0.1,\n",
    "    readout_format='.1f',\n",
    "    description='k:')\n",
    "\n",
    "MAD_filter_checkbox = widgets.Checkbox(\n",
    "    value=False,\n",
    "    description='Use MAD filter')\n",
    "\n",
    "display(MAD_k_floatslider, MAD_filter_checkbox)"
   ]
  },
  {
   "cell_type": "markdown",
   "metadata": {},
   "source": [
    "###  Antialiasing (Poisson resampling)\n",
    "\n",
    "Antialiasing can occur when a high resolution is represented in a grid with a much lower resolution. It can be countered by downsampling the spatial resolution prior to gridding. The [Poisson filter](https://pdal.io/stages/filters.poisson.html#filters-poisson) only keeps points ina distance of the defined radius and culls the other points. A good radius would be the approcimate resolution of the final grid. However, the filter simply culls the points and so that they are subsequently not considered anymore. It has to be checked if this actually improves the result."
   ]
  },
  {
   "cell_type": "code",
   "execution_count": 19,
   "metadata": {
    "ExecuteTime": {
     "end_time": "2020-12-14T17:56:36.776769Z",
     "start_time": "2020-12-14T17:56:36.745533Z"
    },
    "deletable": false,
    "editable": false,
    "hide_input": true,
    "init_cell": true
   },
   "outputs": [
    {
     "data": {
      "application/vnd.jupyter.widget-view+json": {
       "model_id": "8dd22cdbf9724c13ba910a411f63819c",
       "version_major": 2,
       "version_minor": 0
      },
      "text/plain": [
       "BoundedFloatText(value=30.0, description='Radius:', max=200.0, min=0.1, step=0.1)"
      ]
     },
     "metadata": {},
     "output_type": "display_data"
    },
    {
     "data": {
      "application/vnd.jupyter.widget-view+json": {
       "model_id": "fd39a94f60f242059f08617c7407ebc7",
       "version_major": 2,
       "version_minor": 0
      },
      "text/plain": [
       "Checkbox(value=False, description='Use Poisson resample filter')"
      ]
     },
     "metadata": {},
     "output_type": "display_data"
    }
   ],
   "source": [
    "# Minimum distance between samples. [Default: 30.0]\n",
    "sample_radius_floattext = widgets.BoundedFloatText(\n",
    "    value=30.0,\n",
    "    min=0.1,\n",
    "    max=200.0,\n",
    "    step=0.1,\n",
    "    description='Radius:'\n",
    ")\n",
    "\n",
    "sample_filter_checkbox = widgets.Checkbox(\n",
    "    value=False,\n",
    "    description='Use Poisson resample filter')\n",
    "\n",
    "display(sample_radius_floattext, sample_filter_checkbox)"
   ]
  },
  {
   "cell_type": "markdown",
   "metadata": {},
   "source": [
    "## Execute backscatter pipeline\n",
    "\n",
    "Hint: The pipeline which is shown once the pipeline is constructed, can be saved with the extension `*.json` and kept as record for the data cleaning"
   ]
  },
  {
   "cell_type": "code",
   "execution_count": 20,
   "metadata": {
    "ExecuteTime": {
     "end_time": "2020-12-14T17:56:36.814564Z",
     "start_time": "2020-12-14T17:56:36.776769Z"
    },
    "deletable": false,
    "editable": false,
    "hide_input": true,
    "init_cell": true
   },
   "outputs": [
    {
     "data": {
      "application/vnd.jupyter.widget-view+json": {
       "model_id": "bc13370f32444c34a27a1f60aa44a239",
       "version_major": 2,
       "version_minor": 0
      },
      "text/plain": [
       "Button(button_style='info', description='Build backscatter pipeline', layout=Layout(width='20%'), style=Button…"
      ]
     },
     "metadata": {},
     "output_type": "display_data"
    },
    {
     "data": {
      "application/vnd.jupyter.widget-view+json": {
       "model_id": "ea85602a1d6e4bc5820ed7c15d81e3e3",
       "version_major": 2,
       "version_minor": 0
      },
      "text/plain": [
       "Output()"
      ]
     },
     "metadata": {},
     "output_type": "display_data"
    }
   ],
   "source": [
    "build_backscatter_pipeline_button = widgets.Button(\n",
    "    description='Build backscatter pipeline',\n",
    "    button_style='info',\n",
    "    tooltip='Build PDAL filter pipeline for backscatter',\n",
    "    layout=widgets.Layout(width='20%'))\n",
    "\n",
    "build_backscatter_pipeline_output = widgets.Output()\n",
    "\n",
    "backscatter_pipeline = []\n",
    "\n",
    "def on_build_backscatter_pipeline_button_clicked(button):\n",
    "    EPT_reader = {\n",
    "    \"type\": \"readers.ept\",\n",
    "    \"filename\": Path(os.path.join(EPT_directory, EPT_name, 'ept.json')).as_posix()\n",
    "    }\n",
    "\n",
    "    PCD_writer = {\n",
    "        \"type\": \"writers.bpf\",\n",
    "        \"coord_id\": \"auto\",\n",
    "        \"filename\": Path(os.path.join(EPT_directory, 'temp.bpf')).as_posix()\n",
    "    }\n",
    "    with build_backscatter_pipeline_output:\n",
    "        clear_output()\n",
    "        global backscatter_pipeline\n",
    "        backscatter_pipeline = [EPT_reader]\n",
    "        if O_M_filter_checkbox.value:\n",
    "            O_M_filter = {\n",
    "                \"type\":\"filters.assign\",\n",
    "                \"value\": O_M_text.value\n",
    "            }\n",
    "            backscatter_pipeline.append(O_M_filter)\n",
    "        if MAD_filter_checkbox.value:\n",
    "            MAD_filter = {\n",
    "                \"type\": \"filters.mad\",\n",
    "                \"dimension\":\"Amplitude\",\n",
    "                \"k\": MAD_k_floatslider.value\n",
    "            }\n",
    "            backscatter_pipeline.append(MAD_filter)\n",
    "        if sample_filter_checkbox:\n",
    "            sample_filter = {\n",
    "                \"type\": \"filters.sample\",\n",
    "                \"radius\": sample_radius_floattext.value\n",
    "            }\n",
    "            backscatter_pipeline.append(sample_filter)\n",
    "        backscatter_pipeline.append(PCD_writer)\n",
    "        print(json.dumps(backscatter_pipeline, indent=4))\n",
    "\n",
    "build_backscatter_pipeline_button.on_click(on_build_backscatter_pipeline_button_clicked)\n",
    "\n",
    "display(build_backscatter_pipeline_button, build_backscatter_pipeline_output)"
   ]
  },
  {
   "cell_type": "code",
   "execution_count": 21,
   "metadata": {
    "ExecuteTime": {
     "end_time": "2020-12-14T17:56:36.861417Z",
     "start_time": "2020-12-14T17:56:36.814564Z"
    },
    "deletable": false,
    "editable": false,
    "hide_input": false,
    "init_cell": true,
    "scrolled": false
   },
   "outputs": [
    {
     "data": {
      "application/vnd.jupyter.widget-view+json": {
       "model_id": "aca983f60d8343d6a0afe21717ea3ed9",
       "version_major": 2,
       "version_minor": 0
      },
      "text/plain": [
       "Button(button_style='info', description='Run backscatter pipeline', layout=Layout(width='20%'), style=ButtonSt…"
      ]
     },
     "metadata": {},
     "output_type": "display_data"
    },
    {
     "data": {
      "application/vnd.jupyter.widget-view+json": {
       "model_id": "8d7bace07a6b46d9b995df945e1cd6fa",
       "version_major": 2,
       "version_minor": 0
      },
      "text/plain": [
       "Output()"
      ]
     },
     "metadata": {},
     "output_type": "display_data"
    }
   ],
   "source": [
    "# 'Run backscatter pipeline' pipeline button \n",
    "run_backscatter_pipeline_button = widgets.Button(\n",
    "    description='Run backscatter pipeline',\n",
    "    button_style='info', # 'success', 'info', 'warning', 'danger' or ''\n",
    "    tooltip='Run PDAL filter pipeline for backscatter',\n",
    "    layout=widgets.Layout(width='20%'))\n",
    "\n",
    "# Output of 'Run backscatter pipeline' pipeline button \n",
    "run_backscatter_pipeline_output = widgets.Output()\n",
    "\n",
    "# Function to be executed on 'Run backscatter pipeline' pipeline button clicked\n",
    "def on_run_backscatter_pipeline_button_clicked(button):\n",
    "    with run_backscatter_pipeline_output:\n",
    "        clear_output()\n",
    "        # Save temporary JSON pipeline file for PDAL subprocess execution\n",
    "        json.dump(\n",
    "            backscatter_pipeline,\n",
    "            open(Path(os.path.join(EPT_directory, 'backscatter_pipeline.json')).as_posix(), 'w'),\n",
    "            indent=4\n",
    "        )\n",
    "        # Execute PDAL backscatter filter pipeline as Python subprocess\n",
    "        print('Executing filter pipeline ...')\n",
    "        run_subprocess(\n",
    "            [\n",
    "                'pdal',\n",
    "                'pipeline',\n",
    "                Path(os.path.join(EPT_directory, 'backscatter_pipeline.json')).as_posix(),\n",
    "            ]\n",
    "        )\n",
    "        clear_output()\n",
    "        # Build updated EPTs from intermediate LAS as Python subprocess\n",
    "        # --force flag florces a new build instead of appending to the old\n",
    "        print('Updating EPTs ..')\n",
    "        run_subprocess(\n",
    "            [\n",
    "                'entwine',\n",
    "                'build',\n",
    "                '-i',\n",
    "                Path(os.path.join(EPT_directory, 'temp.bpf')).as_posix(),\n",
    "                '-o',\n",
    "                Path(os.path.join(EPT_directory, EPT_name)).as_posix(),\n",
    "                '--force'\n",
    "            ]\n",
    "        )\n",
    "        print('Removing temporary files...')\n",
    "        # Temporary files: JSON pipeline and intermediate LAS\n",
    "        os.remove(Path(os.path.join(EPT_directory, 'backscatter_pipeline.json')).as_posix())\n",
    "        os.remove(Path(os.path.join(EPT_directory, 'temp.bpf')).as_posix())\n",
    "        clear_output()\n",
    "        print('Finished PDAL filter pipeline for backscatter!')\n",
    "        \n",
    "# Connect 'Run backscatter pipeline' button and function to be executed on button click\n",
    "run_backscatter_pipeline_button.on_click(on_run_backscatter_pipeline_button_clicked)\n",
    "\n",
    "# Display widgets and ouput\n",
    "display(\n",
    "    run_backscatter_pipeline_button,\n",
    "    run_backscatter_pipeline_output\n",
    ")"
   ]
  },
  {
   "cell_type": "markdown",
   "metadata": {},
   "source": [
    "# Data export"
   ]
  },
  {
   "cell_type": "code",
   "execution_count": 22,
   "metadata": {
    "ExecuteTime": {
     "end_time": "2020-12-14T17:56:36.946051Z",
     "start_time": "2020-12-14T17:56:36.861417Z"
    },
    "deletable": false,
    "editable": false,
    "hide_input": false,
    "init_cell": true,
    "scrolled": false
   },
   "outputs": [
    {
     "data": {
      "application/vnd.jupyter.widget-view+json": {
       "model_id": "fe0eb0e65fc84b99bb45ebed435d1add",
       "version_major": 2,
       "version_minor": 0
      },
      "text/plain": [
       "Text(value='output', description='Filename:', placeholder='output')"
      ]
     },
     "metadata": {},
     "output_type": "display_data"
    },
    {
     "data": {
      "application/vnd.jupyter.widget-view+json": {
       "model_id": "afd2d42b098e488aadd8009160c1ab79",
       "version_major": 2,
       "version_minor": 0
      },
      "text/plain": [
       "BoundedFloatText(value=100.0, description='Grid resolution:', max=500.0, min=0.1, step=0.1)"
      ]
     },
     "metadata": {},
     "output_type": "display_data"
    },
    {
     "data": {
      "application/vnd.jupyter.widget-view+json": {
       "model_id": "dac3996c60b044e799d7b49a136cefd6",
       "version_major": 2,
       "version_minor": 0
      },
      "text/plain": [
       "BoundedFloatText(value=141.4, description='Radius:', max=1000.0, min=0.1, step=0.1)"
      ]
     },
     "metadata": {},
     "output_type": "display_data"
    },
    {
     "data": {
      "application/vnd.jupyter.widget-view+json": {
       "model_id": "b55eee9f578046be9c0764d274cc07d5",
       "version_major": 2,
       "version_minor": 0
      },
      "text/plain": [
       "IntSlider(value=1, description='IDW power:', max=6, min=1)"
      ]
     },
     "metadata": {},
     "output_type": "display_data"
    },
    {
     "data": {
      "application/vnd.jupyter.widget-view+json": {
       "model_id": "71ae74fb815941f2aff79a925f4aa655",
       "version_major": 2,
       "version_minor": 0
      },
      "text/plain": [
       "IntSlider(value=1, description='Window size:', max=5)"
      ]
     },
     "metadata": {},
     "output_type": "display_data"
    },
    {
     "data": {
      "application/vnd.jupyter.widget-view+json": {
       "model_id": "ad55f42e9b1248c9943400d026ec1603",
       "version_major": 2,
       "version_minor": 0
      },
      "text/plain": [
       "Dropdown(description='Dimension:', options=('Z', 'Classification', 'Amplitude'), value='Z')"
      ]
     },
     "metadata": {},
     "output_type": "display_data"
    },
    {
     "data": {
      "application/vnd.jupyter.widget-view+json": {
       "model_id": "dc914c07a02f49b0a7e6037716813917",
       "version_major": 2,
       "version_minor": 0
      },
      "text/plain": [
       "Checkbox(value=True, description='Reject outliers (bathymetry only)')"
      ]
     },
     "metadata": {},
     "output_type": "display_data"
    }
   ],
   "source": [
    "# Grid resolution. [Default: 100.0]\n",
    "grid_resolution_floattext = widgets.BoundedFloatText(\n",
    "    value=100.0,\n",
    "    min=0.1,\n",
    "    max=500.0,\n",
    "    step=0.1,\n",
    "    description='Grid resolution:')\n",
    "\n",
    "def on_grid_resolution_floattext_change(change):\n",
    "    grid_radius_floattext.value = round(change['new']*np.sqrt(2), 1)\n",
    "\n",
    "grid_resolution_floattext.observe(on_grid_resolution_floattext_change, 'value')\n",
    "\n",
    "###############################################################################\n",
    "\n",
    "# Grid radius. [Default: 141.4] --> Grid resolution * sqrt(2)\n",
    "grid_radius_floattext = widgets.BoundedFloatText(\n",
    "    value=round(100*sqrt(2), 1),\n",
    "    min=0.1,\n",
    "    max=1000.0,\n",
    "    step=0.1,\n",
    "    description='Radius:')\n",
    "\n",
    "###############################################################################\n",
    "\n",
    "# Power for inverse distance weighting algorithm. [Default: 1]\n",
    "grid_IDW_power_intslider = widgets.IntSlider(\n",
    "    value=1,\n",
    "    min=1,\n",
    "    max=6,\n",
    "    step=1,\n",
    "    description='IDW power:')\n",
    "\n",
    "###############################################################################\n",
    "\n",
    "# Grid window size. [Default: 0]\n",
    "# Maximum horizontal or vertical distance that a donor cell may be in order to contribute to the subject cell \n",
    "# --> A window_size of 1 essentially creates a 3x3 array around the subject cell. \n",
    "# --> A window_size of 2 creates a 5x5 array, and so on.\n",
    "grid_window_size_intslider = widgets.IntSlider(\n",
    "    value=1,\n",
    "    min=0,\n",
    "    max=5,\n",
    "    step=1,\n",
    "    description='Window size:')\n",
    "\n",
    "###############################################################################\n",
    "\n",
    "# Dimension to be gridded. [default: 'Z']\n",
    "grid_dimension_dropdown = widgets.Dropdown(\n",
    "    options=['Z', 'Classification', 'Amplitude'],\n",
    "    value='Z',\n",
    "    description='Dimension:'\n",
    ")\n",
    "###############################################################################\n",
    "\n",
    "# Name of the output grid [default: 'output']\n",
    "# Grid is saved to the directory of the EPT data set\n",
    "grid_name_text = widgets.Text(\n",
    "    value='output',\n",
    "    placeholder='output',\n",
    "    description='Filename:',\n",
    "    disabled=False\n",
    ")\n",
    "###############################################################################\n",
    "\n",
    "# Whether outliers are rejected or gridded [default: True]\n",
    "grid_reject_outliers_checkbox = widgets.Checkbox(\n",
    "    value=True,\n",
    "    description='Reject outliers (bathymetry only)')\n",
    "\n",
    "###############################################################################\n",
    "\n",
    "# Display of widgets\n",
    "display(\n",
    "    grid_name_text,\n",
    "    grid_resolution_floattext,\n",
    "    grid_radius_floattext,\n",
    "    grid_IDW_power_intslider,\n",
    "    grid_window_size_intslider,\n",
    "    grid_dimension_dropdown,\n",
    "    grid_reject_outliers_checkbox\n",
    ")"
   ]
  },
  {
   "cell_type": "code",
   "execution_count": 23,
   "metadata": {
    "ExecuteTime": {
     "end_time": "2020-12-14T17:56:36.977295Z",
     "start_time": "2020-12-14T17:56:36.946051Z"
    },
    "deletable": false,
    "editable": false,
    "hide_input": false,
    "init_cell": true,
    "scrolled": true
   },
   "outputs": [
    {
     "data": {
      "application/vnd.jupyter.widget-view+json": {
       "model_id": "b3a4d53581954c07b8f0039211e5dbdb",
       "version_major": 2,
       "version_minor": 0
      },
      "text/plain": [
       "Button(button_style='info', description='Export data', layout=Layout(width='20%'), style=ButtonStyle(), toolti…"
      ]
     },
     "metadata": {},
     "output_type": "display_data"
    },
    {
     "data": {
      "application/vnd.jupyter.widget-view+json": {
       "model_id": "36e375427e1b48eaad2111bbc2b1542d",
       "version_major": 2,
       "version_minor": 0
      },
      "text/plain": [
       "Output()"
      ]
     },
     "metadata": {},
     "output_type": "display_data"
    }
   ],
   "source": [
    "export_data_button = widgets.Button(\n",
    "    description='Export data',\n",
    "    button_style='info',\n",
    "    tooltip='Export data to final product',\n",
    "    layout=widgets.Layout(width='20%')\n",
    ")\n",
    "\n",
    "export_data_output = widgets.Output()\n",
    "\n",
    "def on_export_data_button_clicked(button):\n",
    "    with export_data_output:\n",
    "        clear_output()\n",
    "        EPT_reader = {\n",
    "            \"type\": \"readers.ept\",\n",
    "            \"filename\": Path(os.path.join(EPT_directory, EPT_name, 'ept.json')).as_posix()\n",
    "        }\n",
    "        reject_outliers = {\n",
    "            \"type\":\"filters.range\",\n",
    "            \"limits\": \"Classification[0:0]\"\n",
    "        }\n",
    "        grid_writer = {\n",
    "            \"filename\": Path(os.path.join(EPT_directory, grid_name_text.value + '.tif')).as_posix(),\n",
    "            \"resolution\": grid_resolution_floattext.value,\n",
    "            \"radius\": grid_radius_floattext.value,\n",
    "            \"power\": grid_IDW_power_intslider.value,\n",
    "            \"window_size\": grid_window_size_intslider.value,\n",
    "            \"dimension\": grid_dimension_dropdown.value\n",
    "        }\n",
    "        export_pipeline = [EPT_reader]\n",
    "        if grid_reject_outliers_checkbox.value:\n",
    "             export_pipeline.append(reject_outliers)\n",
    "        export_pipeline.append(grid_writer)\n",
    "        print(json.dumps(export_pipeline, indent=4))\n",
    "        json.dump(\n",
    "            export_pipeline,\n",
    "            open(Path(os.path.join(EPT_directory, 'export_pipeline.json')).as_posix(), 'w'),\n",
    "            indent=4\n",
    "        )\n",
    "        # Execute PDAL bathymetry filter pipeline as Python subprocess\n",
    "        print('Exporting data ...')\n",
    "        run_subprocess(\n",
    "            [\n",
    "                'pdal',\n",
    "                'pipeline',\n",
    "                Path(os.path.join(EPT_directory, 'export_pipeline.json')).as_posix(),\n",
    "            ]\n",
    "        )\n",
    "        clear_output()\n",
    "        print('Removing temporary files...')\n",
    "        # Temporary files: JSON export pipeline\n",
    "        os.remove(Path(os.path.join(EPT_directory, 'export_pipeline.json')).as_posix())\n",
    "        clear_output()\n",
    "        print(f'Exported {grid_name_text.value}!')\n",
    "\n",
    "export_data_button.on_click(on_export_data_button_clicked)\n",
    "\n",
    "display(export_data_button, export_data_output)"
   ]
  }
 ],
 "metadata": {
  "celltoolbar": "Initialization Cell",
  "hide_input": false,
  "kernelspec": {
   "display_name": "Python 3",
   "language": "python",
   "name": "python3"
  },
  "language_info": {
   "codemirror_mode": {
    "name": "ipython",
    "version": 3
   },
   "file_extension": ".py",
   "mimetype": "text/x-python",
   "name": "python",
   "nbconvert_exporter": "python",
   "pygments_lexer": "ipython3",
   "version": "3.8.5"
  },
  "toc": {
   "base_numbering": 1,
   "nav_menu": {
    "height": "251px",
    "width": "307px"
   },
   "number_sections": true,
   "sideBar": true,
   "skip_h1_title": false,
   "title_cell": "Table of Contents",
   "title_sidebar": "Contents",
   "toc_cell": false,
   "toc_position": {},
   "toc_section_display": true,
   "toc_window_display": false
  },
  "varInspector": {
   "cols": {
    "lenName": 16,
    "lenType": 16,
    "lenVar": 40
   },
   "kernels_config": {
    "python": {
     "delete_cmd_postfix": "",
     "delete_cmd_prefix": "del ",
     "library": "var_list.py",
     "varRefreshCmd": "print(var_dic_list())"
    },
    "r": {
     "delete_cmd_postfix": ") ",
     "delete_cmd_prefix": "rm(",
     "library": "var_list.r",
     "varRefreshCmd": "cat(var_dic_list()) "
    }
   },
   "types_to_exclude": [
    "module",
    "function",
    "builtin_function_or_method",
    "instance",
    "_Feature"
   ],
   "window_display": false
  }
 },
 "nbformat": 4,
 "nbformat_minor": 4
}
